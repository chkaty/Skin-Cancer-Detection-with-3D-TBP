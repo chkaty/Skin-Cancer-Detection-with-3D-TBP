{
 "cells": [
  {
   "cell_type": "markdown",
   "metadata": {},
   "source": [
    "## [ISIC 2024 - Skin Cancer Detection with 3D-TBP](https://www.kaggle.com/competitions/isic-2024-challenge/overview)\n",
    "##### Lingfeng (Ling) Su, Manal Amarsaikhan, Yuxin (Katy) Chen, Keelan Gan"
   ]
  },
  {
   "cell_type": "code",
   "execution_count": 8,
   "metadata": {},
   "outputs": [],
   "source": [
    "import tensorflow as tf\n",
    "import pandas as pd\n",
    "import os\n",
    "import numpy as np\n",
    "import cv2\n",
    "from tqdm import tqdm\n"
   ]
  },
  {
   "cell_type": "code",
   "execution_count": 9,
   "metadata": {},
   "outputs": [],
   "source": [
    "def load_and_preprocess_image(image_path, label):\n",
    "    width, height = 100, 100\n",
    "    image = tf.io.read_file(image_path)\n",
    "    image = tf.image.decode_jpeg(image, channels=3)\n",
    "    \n",
    "    image = tf.image.resize(image, [width, height])\n",
    "    image = image / 255.0\n",
    "    \n",
    "    return image, label"
   ]
  },
  {
   "cell_type": "code",
   "execution_count": 10,
   "metadata": {},
   "outputs": [],
   "source": [
    "def batch_dataset(batch_size, dataset):\n",
    "    return dataset.batch(batch_size)"
   ]
  },
  {
   "cell_type": "markdown",
   "metadata": {},
   "source": [
    "#### Process Image Dataset"
   ]
  },
  {
   "cell_type": "code",
   "execution_count": 11,
   "metadata": {},
   "outputs": [],
   "source": [
    "def preprocess_and_save(image_path, save_path, target_size=(64, 64)):\n",
    "    \"\"\"Preprocess image and save as .npy\"\"\"\n",
    "    try:\n",
    "        image_raw = tf.io.read_file(image_path)\n",
    "        image = tf.image.decode_jpeg(image_raw, channels=3)\n",
    "        image = tf.image.resize(image, target_size)\n",
    "        image = tf.image.convert_image_dtype(image, dtype=tf.float32)  # Normalize [0,1]\n",
    "        \n",
    "        np.save(save_path, image.numpy())  # Save as NumPy array\n",
    "    except Exception as e:\n",
    "        print(f\"Error processing {image_path}: {e}\")\n",
    "\n",
    "def load_preprocessed_image(npy_path, label):\n",
    "    \"\"\"Load preprocessed .npy image\"\"\"\n",
    "    image = np.load(npy_path.numpy())  # Convert Tensor to NumPy path\n",
    "    return tf.convert_to_tensor(image, dtype=tf.float32), label\n",
    "\n",
    "def load_preprocessed_wrapper(npy_path, label):\n",
    "    \"\"\"Wrapper function for TensorFlow Dataset\"\"\"\n",
    "    image, label = tf.py_function(load_preprocessed_image, [npy_path, label], [tf.float32, tf.int32])\n",
    "    image.set_shape((64, 64, 3))  # Set fixed shape\n",
    "    return image, label"
   ]
  },
  {
   "cell_type": "code",
   "execution_count": null,
   "metadata": {},
   "outputs": [],
   "source": [
    "# Load metadata\n",
    "metadata = pd.read_csv(r\"isic-2024-challenge\\train-metadata.csv\", low_memory=False)\n",
    "image_dir = r\"isic-2024-challenge\\train-image\\image\"\n",
    "processed_dir = r\"isic-2024-challenge\\processed_images\"\n",
    "\n",
    "# create DIR for run once use many times\n",
    "os.makedirs(processed_dir, exist_ok=True)\n",
    "\n",
    "# Create a mapping from image filenames to labels\n",
    "labels = metadata[['isic_id', 'target']].copy()\n",
    "labels['isic_id'] = labels['isic_id'].apply(lambda x: x + '.jpg')\n",
    "image_to_label = dict(zip(labels['isic_id'], labels['target']))\n",
    "\n",
    "# Create a list of image file paths and their corresponding labels\n",
    "image_paths = [os.path.join(image_dir, img_id) for img_id in labels['isic_id']]\n",
    "image_labels = [image_to_label[img_id] for img_id in labels['isic_id']]\n",
    "\n",
    "# Preprocess all images and save them\n",
    "# for img_path in tqdm(image_paths):\n",
    "#     save_path = os.path.join(processed_dir, os.path.basename(img_path).replace(\".jpg\", \".npy\"))\n",
    "#     if not os.path.exists(save_path):  # Skip if already processed\n",
    "#         preprocess_and_save(img_path, save_path)\n",
    "\n",
    "# Create lists of preprocessed file paths and labels\n",
    "# processed_paths = [os.path.join(processed_dir, img_id.replace(\".jpg\", \".npy\")) for img_id in labels['isic_id']]\n",
    "\n",
    "# Create a TensorFlow Dataset\n",
    "#dataset = tf.data.Dataset.from_tensor_slices((processed_paths, image_labels))\n",
    "# Parallelize image loading and preprocessing\n",
    "#dataset = dataset.map(load_preprocessed_wrapper, num_parallel_calls=tf.data.AUTOTUNE)\n",
    "\n",
    "\n",
    "# Commenting this out to test saving it onto hard drive instead for now\n",
    "# Create a TensorFlow Dataset\n",
    "dataset = tf.data.Dataset.from_tensor_slices((image_paths, image_labels))\n",
    "\n",
    "# Parallelize image loading and preprocessing\n",
    "dataset = dataset.map(load_and_preprocess_image, num_parallel_calls=tf.data.experimental.AUTOTUNE)\n",
    "\n",
    "# Shuffle and repeat the dataset\n",
    "dataset = dataset.shuffle(buffer_size=1000)\n",
    "dataset = dataset.repeat()\n",
    "\n",
    "# Batch the dataset\n",
    "batch_size = 1000\n",
    "num_batches = 10\n",
    "dataset = batch_dataset(batch_size, dataset)\n",
    "dataset = dataset.take(num_batches)"
   ]
  },
  {
   "cell_type": "code",
   "execution_count": 13,
   "metadata": {},
   "outputs": [
    {
     "name": "stdout",
     "output_type": "stream",
     "text": [
      "Images shape: (1000, 100, 100, 3)\n",
      "Labels shape: (1000,)\n"
     ]
    }
   ],
   "source": [
    "# Print the first batch\n",
    "for images, labels in dataset.take(1):\n",
    "    print(\"Images shape:\", images.shape)\n",
    "    print(\"Labels shape:\", labels.shape)\n",
    "    "
   ]
  }
 ],
 "metadata": {
  "kernelspec": {
   "display_name": "base",
   "language": "python",
   "name": "python3"
  },
  "language_info": {
   "codemirror_mode": {
    "name": "ipython",
    "version": 3
   },
   "file_extension": ".py",
   "mimetype": "text/x-python",
   "name": "python",
   "nbconvert_exporter": "python",
   "pygments_lexer": "ipython3",
   "version": "3.12.7"
  }
 },
 "nbformat": 4,
 "nbformat_minor": 4
}
