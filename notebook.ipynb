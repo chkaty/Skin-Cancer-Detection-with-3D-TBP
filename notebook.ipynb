{
 "cells": [
  {
   "cell_type": "markdown",
   "metadata": {},
   "source": [
    "# We are working on a set of images and trying to determine if it's cancer or not. "
   ]
  },
  {
   "cell_type": "code",
   "execution_count": null,
   "metadata": {},
   "outputs": [],
   "source": [
    "import cv2\n",
    "import os\n",
    "import numpy as np\n",
    "from tqdm import tqdm\n",
    "\n",
    "input_folder = \"isic-2024-challenge/train-image/image\"\n",
    "output_folder = \"resized_images\"\n",
    "target_size = (64, 64)\n",
    "\n",
    "os.makedirs(output_folder, exist_ok=True)\n",
    "\n",
    "counter = 0\n",
    "\n",
    "for img_name in tqdm(os.listdir(input_folder)):\n",
    "    input_path = os.path.join(input_folder, img_name)\n",
    "    output_path = os.path.join(output_folder, img_name)\n",
    "\n",
    "    # Skip processing if the file already exists\n",
    "    if os.path.exists(output_path):\n",
    "        continue  \n",
    "\n",
    "    img = cv2.imread(input_path)\n",
    "    if img is not None:\n",
    "        resized_img = cv2.resize(img, target_size)\n",
    "        normalized_img = resized_img.astype(np.float32) / 255.0  # Normalize to [0,1]\n",
    "        cv2.imwrite(output_path, resized_img)\n",
    "        \n",
    "        np.save(output_path.replace(\".jpg\", \".npy\"), normalized_img)\n",
    "\n",
    "    # This is ugly but I dont have enough compute to run 20k images.\n",
    "    counter += 1\n",
    "    if counter >= 200:\n",
    "        break"
   ]
  }
 ],
 "metadata": {
  "language_info": {
   "name": "python"
  }
 },
 "nbformat": 4,
 "nbformat_minor": 2
}
