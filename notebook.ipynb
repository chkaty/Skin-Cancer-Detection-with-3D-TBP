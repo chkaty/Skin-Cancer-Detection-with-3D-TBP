{
 "cells": [
  {
   "cell_type": "markdown",
   "metadata": {},
   "source": [
    "## [ISIC 2024 - Skin Cancer Detection with 3D-TBP](https://www.kaggle.com/competitions/isic-2024-challenge/overview)\n",
    "##### Lingfeng (Ling) Su, Manal Amarsaikhan, Yuxin (Katy) Chen, Keelan Gan"
   ]
  },
  {
   "cell_type": "code",
   "execution_count": 46,
   "metadata": {},
   "outputs": [],
   "source": [
    "import tensorflow as tf\n",
    "import pandas as pd\n",
    "import os"
   ]
  },
  {
   "cell_type": "code",
   "execution_count": 47,
   "metadata": {},
   "outputs": [],
   "source": [
    "def load_and_preprocess_image(image_path, label):\n",
    "    width, height = 100, 100\n",
    "    image = tf.io.read_file(image_path)\n",
    "    image = tf.image.decode_jpeg(image, channels=3)\n",
    "    \n",
    "    image = tf.image.resize(image, [width, height])\n",
    "    image = image / 255.0\n",
    "    \n",
    "    return image, label"
   ]
  },
  {
   "cell_type": "code",
   "execution_count": 48,
   "metadata": {},
   "outputs": [],
   "source": [
    "def batch_dataset(batch_size, dataset):\n",
    "    return dataset.batch(batch_size)"
   ]
  },
  {
   "cell_type": "markdown",
   "metadata": {},
   "source": [
    "#### Process Image Dataset"
   ]
  },
  {
   "cell_type": "code",
   "execution_count": null,
   "metadata": {},
   "outputs": [],
   "source": [
    "# Load metadata\n",
    "metadata = pd.read_csv(r\"\\train-metadata.csv\", low_memory=False)\n",
    "image_dir = r\"\\train-image\\image\"\n",
    "\n",
    "# Create a mapping from image filenames to labels\n",
    "labels = metadata[['isic_id', 'target']].copy()\n",
    "labels['isic_id'] = labels['isic_id'].apply(lambda x: x + '.jpg')\n",
    "image_to_label = dict(zip(labels['isic_id'], labels['target']))\n",
    "\n",
    "# Create a list of image file paths and their corresponding labels\n",
    "image_paths = [os.path.join(image_dir, img_id) for img_id in labels['isic_id']]\n",
    "image_labels = [image_to_label[img_id] for img_id in labels['isic_id']]\n",
    "\n",
    "# Create a TensorFlow Dataset\n",
    "dataset = tf.data.Dataset.from_tensor_slices((image_paths, image_labels))\n",
    "\n",
    "# Parallelize image loading and preprocessing\n",
    "dataset = dataset.map(load_and_preprocess_image, num_parallel_calls=tf.data.experimental.AUTOTUNE)\n",
    "\n",
    "# Shuffle and repeat the dataset\n",
    "dataset = dataset.shuffle(buffer_size=1000)\n",
    "dataset = dataset.repeat()\n",
    "\n",
    "# Batch the dataset\n",
    "batch_size = 1000\n",
    "num_batches = 10\n",
    "dataset = batch_dataset(batch_size, dataset)\n",
    "dataset = dataset.take(num_batches)"
   ]
  },
  {
   "cell_type": "code",
   "execution_count": 50,
   "metadata": {},
   "outputs": [
    {
     "name": "stdout",
     "output_type": "stream",
     "text": [
      "Images shape: (1000, 100, 100, 3)\n",
      "Labels shape: (1000,)\n"
     ]
    }
   ],
   "source": [
    "# Print the first batch\n",
    "for images, labels in dataset.take(1):\n",
    "    print(\"Images shape:\", images.shape)\n",
    "    print(\"Labels shape:\", labels.shape)\n",
    "    "
   ]
  }
 ],
 "metadata": {
  "kernelspec": {
   "display_name": "cscc11",
   "language": "python",
   "name": "python3"
  },
  "language_info": {
   "codemirror_mode": {
    "name": "ipython",
    "version": 3
   },
   "file_extension": ".py",
   "mimetype": "text/x-python",
   "name": "python",
   "nbconvert_exporter": "python",
   "pygments_lexer": "ipython3",
   "version": "3.12.8"
  }
 },
 "nbformat": 4,
 "nbformat_minor": 2
}
